{
  "nbformat": 4,
  "nbformat_minor": 0,
  "metadata": {
    "colab": {
      "provenance": [],
      "authorship_tag": "ABX9TyPELV42E5hQ31A+SSpHcnqT",
      "include_colab_link": true
    },
    "kernelspec": {
      "name": "python3",
      "display_name": "Python 3"
    },
    "language_info": {
      "name": "python"
    }
  },
  "cells": [
    {
      "cell_type": "markdown",
      "metadata": {
        "id": "view-in-github",
        "colab_type": "text"
      },
      "source": [
        "<a href=\"https://colab.research.google.com/github/DayByDayBy/whypy/blob/main/why_py.ipynb\" target=\"_parent\"><img src=\"https://colab.research.google.com/assets/colab-badge.svg\" alt=\"Open In Colab\"/></a>"
      ]
    },
    {
      "cell_type": "markdown",
      "source": [
        "#   whyPy\n",
        "---\n",
        "### a Jupyter Notebook and LLM botherer\n",
        "\n",
        "\n",
        "\n",
        "playing with iterative invocation of large language models and collecting the responses\n",
        "\n",
        "(altho right now it's just a skeleton, prep)\n"
      ],
      "metadata": {
        "id": "_80OOXq6d55o"
      }
    },
    {
      "cell_type": "code",
      "source": [
        "#@title installations\n",
        "\n",
        "# installations required to run the notebook\n",
        "\n",
        "!pip install argparse pandas sentence_transformers langchain_community langchain langchain_core datetime matplotlib"
      ],
      "metadata": {
        "cellView": "form",
        "id": "9_HWmnKCepBP"
      },
      "execution_count": null,
      "outputs": []
    },
    {
      "cell_type": "code",
      "source": [
        "#@title imports\n",
        "\n",
        "# imports to run first (some common, some less so, may be possible to skip this step depending\n",
        "\n",
        "import pandas as pd\n",
        "import matplotlib.pyplot as plt\n",
        "from sentence_transformers import SentenceTransformer\n",
        "from langchain_community.llms import Ollama\n",
        "from langchain.chains import LLMChain\n",
        "from langchain_core.prompts import PromptTemplate\n",
        "from datetime import datetime\n",
        "import time"
      ],
      "metadata": {
        "id": "MbjqAJRHfcmF"
      },
      "execution_count": null,
      "outputs": []
    },
    {
      "cell_type": "code",
      "source": [
        "#@title ipy input\n",
        "\n",
        "from ipywidgets import IntText, interact\n",
        "\n",
        "iterations = IntText(value=10, description='Iterations:')\n",
        "interact(lambda iterations: iterations, iterations=iterations)"
      ],
      "metadata": {
        "cellView": "form",
        "id": "RpSrAfh85BMH"
      },
      "execution_count": null,
      "outputs": []
    },
    {
      "cell_type": "code",
      "source": [
        "#@title main function\n",
        "\n",
        "%%time"
      ],
      "metadata": {
        "cellView": "form",
        "id": "424M_OQl2NLL"
      },
      "execution_count": null,
      "outputs": []
    }
  ]
}