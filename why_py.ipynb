{
  "cells": [
    {
      "cell_type": "markdown",
      "metadata": {
        "colab_type": "text",
        "id": "view-in-github"
      },
      "source": [
        "<a href=\"https://colab.research.google.com/github/DayByDayBy/whypy/blob/main/why_py.ipynb\" target=\"_parent\"><img src=\"https://colab.research.google.com/assets/colab-badge.svg\" alt=\"Open In Colab\"/></a>"
      ]
    },
    {
      "cell_type": "markdown",
      "metadata": {
        "id": "_80OOXq6d55o"
      },
      "source": [
        "#   whyPy\n",
        "---\n",
        "### a Jupyter Notebook and LLM botherer\n",
        "\n",
        "\n",
        "\n",
        "playing with iterative invocation of large language models and collecting the responses\n",
        "\n",
        "(altho right now it's just a skeleton, prep)\n"
      ]
    },
    {
      "cell_type": "code",
      "execution_count": null,
      "metadata": {
        "cellView": "form",
        "id": "9_HWmnKCepBP"
      },
      "outputs": [],
      "source": [
        "#@title installations\n",
        "\n",
        "# installations required to run the notebook\n",
        "\n",
        "!pip install argparse pandas sentence_transformers langchain_community langchain langchain_core datetime matplotlib"
      ]
    },
    {
      "cell_type": "code",
      "execution_count": null,
      "metadata": {
        "id": "MbjqAJRHfcmF"
      },
      "outputs": [],
      "source": [
        "#@title imports\n",
        "\n",
        "# imports to run first (some common, some less so, may be possible to skip this step depending\n",
        "\n",
        "import pandas as pd\n",
        "import matplotlib.pyplot as plt\n",
        "from sentence_transformers import SentenceTransformer\n",
        "from langchain_community.llms import Ollama\n",
        "from langchain.chains import LLMChain\n",
        "from langchain_core.prompts import PromptTemplate\n",
        "from datetime import datetime\n",
        "import time"
      ]
    },
    {
      "cell_type": "code",
      "execution_count": null,
      "metadata": {
        "cellView": "form",
        "id": "RpSrAfh85BMH"
      },
      "outputs": [],
      "source": [
        "#@title ipy input\n",
        "\n",
        "from ipywidgets import IntText, interact\n",
        "\n",
        "iterations = IntText(value=10, description='Iterations:')\n",
        "interact(lambda iterations: iterations, iterations=iterations)"
      ]
    },
    {
      "cell_type": "code",
      "execution_count": null,
      "metadata": {
        "cellView": "form",
        "id": "424M_OQl2NLL"
      },
      "outputs": [],
      "source": [
        "#@title main function\n",
        "\n",
        "%%time"
      ]
    }
  ],
  "metadata": {
    "colab": {
      "authorship_tag": "ABX9TyPELV42E5hQ31A+SSpHcnqT",
      "include_colab_link": true,
      "provenance": []
    },
    "kernelspec": {
      "display_name": "Python 3",
      "name": "python3"
    },
    "language_info": {
      "name": "python"
    }
  },
  "nbformat": 4,
  "nbformat_minor": 0
}
